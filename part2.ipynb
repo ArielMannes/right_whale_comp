{
 "cells": [
  {
   "cell_type": "markdown",
   "metadata": {},
   "source": [
    "# Assignment 1 - part 2\n",
    "### Build our first neural network"
   ]
  },
  {
   "cell_type": "markdown",
   "metadata": {},
   "source": [
    "*first step: read the data and split it to train and validation*"
   ]
  },
  {
   "cell_type": "code",
   "execution_count": 7,
   "metadata": {},
   "outputs": [],
   "source": [
    "import pandas as pd\n",
    "import numpy as np\n",
    "from scipy import misc\n",
    "import os.path\n",
    "import matplotlib.pyplot as plt\n",
    "%matplotlib inline\n",
    "from sklearn.model_selection import StratifiedKFold\n",
    "nrow = 224\n",
    "ncol = 224\n",
    "channels = 3"
   ]
  },
  {
   "cell_type": "markdown",
   "metadata": {},
   "source": [
    "##### read the data:\n",
    "by using get_dummies we invert the df to be categorial, each index is an image"
   ]
  },
  {
   "cell_type": "code",
   "execution_count": 8,
   "metadata": {
    "scrolled": true
   },
   "outputs": [],
   "source": [
    "train_df = pd.read_csv('data/train_relevant.csv', index_col=0) # index_col replace the index with the image_name\n",
    "train_df_categorial = pd.get_dummies(data=train_df,columns=['whaleID'])"
   ]
  },
  {
   "cell_type": "markdown",
   "metadata": {},
   "source": [
    "##### split the data to data_X and data_Y:  \n",
    "data_X - an numpy array of images.  \n",
    "data_Y - matrix with 0's and 1's , each row only one column filled with 1 for the matching whale."
   ]
  },
  {
   "cell_type": "code",
   "execution_count": 9,
   "metadata": {},
   "outputs": [
    {
     "name": "stderr",
     "output_type": "stream",
     "text": [
      "c:\\users\\ariel\\anaconda3\\envs\\workshop\\lib\\site-packages\\ipykernel_launcher.py:1: FutureWarning: Method .as_matrix will be removed in a future version. Use .values instead.\n",
      "  \"\"\"Entry point for launching an IPython kernel.\n",
      "c:\\users\\ariel\\anaconda3\\envs\\workshop\\lib\\site-packages\\ipykernel_launcher.py:5: DeprecationWarning: `imread` is deprecated!\n",
      "`imread` is deprecated in SciPy 1.0.0, and will be removed in 1.2.0.\n",
      "Use ``imageio.imread`` instead.\n",
      "  \"\"\"\n",
      "c:\\users\\ariel\\anaconda3\\envs\\workshop\\lib\\site-packages\\ipykernel_launcher.py:6: DeprecationWarning: `imresize` is deprecated!\n",
      "`imresize` is deprecated in SciPy 1.0.0, and will be removed in 1.2.0.\n",
      "Use ``skimage.transform.resize`` instead.\n",
      "  \n"
     ]
    }
   ],
   "source": [
    "data_Y = train_df_categorial.as_matrix().astype(np.float32) # for each image there will be an array with binary result about each kind of whale\n",
    "num_of_images = train_df.shape[0]\n",
    "data_X = np.zeros(shape=(num_of_images,nrow,ncol,channels), dtype=np.float32)\n",
    "for index,img_name in enumerate(train_df.index):\n",
    "    image = misc.imread('trainCrops/' + img_name)\n",
    "    image = misc.imresize(image,size=(nrow,ncol,channels))\n",
    "    data_X[index] = image.astype(np.float32)"
   ]
  },
  {
   "cell_type": "markdown",
   "metadata": {},
   "source": [
    "as we saw at part 1, there are whales with only 1 image. we will seperate them from the data, and decide later how to treat this group of whales.  \n",
    "rows_belong_to_classify_with_one_img are indeces of images of whales that has only 1 image."
   ]
  },
  {
   "cell_type": "code",
   "execution_count": 10,
   "metadata": {
    "scrolled": true
   },
   "outputs": [
    {
     "data": {
      "text/plain": [
       "[41,\n",
       " 319,\n",
       " 352,\n",
       " 863,\n",
       " 884,\n",
       " 1010,\n",
       " 1060,\n",
       " 1118,\n",
       " 1184,\n",
       " 1227,\n",
       " 1374,\n",
       " 1590,\n",
       " 1606,\n",
       " 1730,\n",
       " 2058,\n",
       " 2091,\n",
       " 2365,\n",
       " 2916,\n",
       " 3033,\n",
       " 3097,\n",
       " 3613,\n",
       " 3671,\n",
       " 3835,\n",
       " 3881]"
      ]
     },
     "execution_count": 10,
     "metadata": {},
     "output_type": "execute_result"
    }
   ],
   "source": [
    "rows_belong_to_classify_with_one_img = []\n",
    "for index, row in enumerate(data_Y):\n",
    "    x = np.nonzero(row) # get indexes in the row that are not zero in each row only 1 index that differ from 0 exist.\n",
    "    if data_Y[:,x].sum() == 1:\n",
    "        rows_belong_to_classify_with_one_img.append(index)\n",
    "rows_belong_to_classify_with_one_img"
   ]
  },
  {
   "cell_type": "markdown",
   "metadata": {},
   "source": [
    "use 3 fold cross validation with stratified in order to keep the proportion of samples in the train and validation the same"
   ]
  },
  {
   "cell_type": "code",
   "execution_count": 11,
   "metadata": {},
   "outputs": [
    {
     "name": "stderr",
     "output_type": "stream",
     "text": [
      "c:\\users\\ariel\\anaconda3\\envs\\workshop\\lib\\site-packages\\ipykernel_launcher.py:1: FutureWarning: Method .as_matrix will be removed in a future version. Use .values instead.\n",
      "  \"\"\"Entry point for launching an IPython kernel.\n"
     ]
    }
   ],
   "source": [
    "y = train_df.reset_index()[['whaleID']].as_matrix()\n",
    "num_of_splits = 3\n",
    "skf = StratifiedKFold(n_splits=num_of_splits, shuffle=False)"
   ]
  },
  {
   "cell_type": "markdown",
   "metadata": {},
   "source": [
    "define cnn:"
   ]
  },
  {
   "cell_type": "code",
   "execution_count": 12,
   "metadata": {},
   "outputs": [
    {
     "name": "stderr",
     "output_type": "stream",
     "text": [
      "Using TensorFlow backend.\n"
     ]
    }
   ],
   "source": [
    "import keras\n",
    "from keras.models import Sequential\n",
    "from keras.layers import Dense, Dropout, Flatten\n",
    "from keras.layers import Conv2D, MaxPool2D"
   ]
  },
  {
   "cell_type": "code",
   "execution_count": null,
   "metadata": {},
   "outputs": [],
   "source": [
    "num_classes = 447\n",
    "def create_model():\n",
    "    model = Sequential()\n",
    "    model.add(Conv2D(32,(3,3),activation='relu',input_shape=(nrow,ncol,channels)))\n",
    "    model.add(Conv2D(32,(3,3),activation='relu'))\n",
    "    model.add(MaxPool2D())\n",
    "    model.add(Conv2D(16,(3,3),activation='relu'))\n",
    "    model.add(Conv2D(16,(3,3),activation='relu'))\n",
    "    model.add(MaxPool2D())\n",
    "    model.add(MaxPool2D())\n",
    "\n",
    "    model.add(Flatten())\n",
    "    model.add(Dense(447,activation='softmax'))\n",
    "    return model"
   ]
  },
  {
   "cell_type": "code",
   "execution_count": null,
   "metadata": {},
   "outputs": [],
   "source": [
    "def train_model(model, xtrain, ytrain, xval, yval):\n",
    "    model.compile(loss='categorical_crossentropy',optimizer='adam',metrics=['accuracy'])\n",
    "    model.fit(xtrain,ytrain,validation_data=[xval,yval],epochs=10)"
   ]
  },
  {
   "cell_type": "code",
   "execution_count": null,
   "metadata": {},
   "outputs": [
    {
     "name": "stderr",
     "output_type": "stream",
     "text": [
      "c:\\users\\ariel\\anaconda3\\envs\\workshop\\lib\\site-packages\\sklearn\\model_selection\\_split.py:626: Warning: The least populated class in y has only 1 members, which is too few. The minimum number of members in any class cannot be less than n_splits=3.\n",
      "  % (min_groups, self.n_splits)), Warning)\n"
     ]
    },
    {
     "name": "stdout",
     "output_type": "stream",
     "text": [
      "Training on fold 1/3...\n",
      "_________________________________________________________________\n",
      "Layer (type)                 Output Shape              Param #   \n",
      "=================================================================\n",
      "conv2d_1 (Conv2D)            (None, 222, 222, 32)      896       \n",
      "_________________________________________________________________\n",
      "conv2d_2 (Conv2D)            (None, 220, 220, 32)      9248      \n",
      "_________________________________________________________________\n",
      "max_pooling2d_1 (MaxPooling2 (None, 110, 110, 32)      0         \n",
      "_________________________________________________________________\n",
      "conv2d_3 (Conv2D)            (None, 108, 108, 16)      4624      \n",
      "_________________________________________________________________\n",
      "conv2d_4 (Conv2D)            (None, 106, 106, 16)      2320      \n",
      "_________________________________________________________________\n",
      "max_pooling2d_2 (MaxPooling2 (None, 53, 53, 16)        0         \n",
      "_________________________________________________________________\n",
      "max_pooling2d_3 (MaxPooling2 (None, 26, 26, 16)        0         \n",
      "_________________________________________________________________\n",
      "flatten_1 (Flatten)          (None, 10816)             0         \n",
      "_________________________________________________________________\n",
      "dense_1 (Dense)              (None, 447)               4835199   \n",
      "=================================================================\n",
      "Total params: 4,852,287\n",
      "Trainable params: 4,852,287\n",
      "Non-trainable params: 0\n",
      "_________________________________________________________________\n",
      "None\n",
      "Train on 2881 samples, validate on 1657 samples\n",
      "Epoch 1/10\n",
      "2144/2881 [=====================>........] - ETA: 2:03 - loss: 6.0489 - acc: 0.0084"
     ]
    }
   ],
   "source": [
    "for index, (train_indices, val_indices) in enumerate(skf.split(data_X, y)):\n",
    "    print('Training on fold ' + str(index+1) + \"/3...\")\n",
    "    xtrain, xval = data_X[train_indices]/255, data_X[val_indices]/255\n",
    "    ytrain, yval = data_Y[train_indices], data_Y[val_indices]\n",
    "    \n",
    "    model = None\n",
    "    model = create_model()\n",
    "    print(model.summary())\n",
    "    history = train_model(model, xtrain, ytrain, xval, yval)\n",
    "    #accuracy_history = history.history['acc']\n",
    "    #val_accuracy_history = history.history['val_acc']\n",
    "    #print('Last training accuracy: ' + str(accuracy_history[-1]) + ', last validation accuracy: ' + str(val_accuracy_history[-1]))"
   ]
  },
  {
   "cell_type": "code",
   "execution_count": null,
   "metadata": {},
   "outputs": [],
   "source": []
  }
 ],
 "metadata": {
  "kernelspec": {
   "display_name": "Python 3",
   "language": "python",
   "name": "python3"
  },
  "language_info": {
   "codemirror_mode": {
    "name": "ipython",
    "version": 3
   },
   "file_extension": ".py",
   "mimetype": "text/x-python",
   "name": "python",
   "nbconvert_exporter": "python",
   "pygments_lexer": "ipython3",
   "version": "3.6.6"
  }
 },
 "nbformat": 4,
 "nbformat_minor": 2
}
